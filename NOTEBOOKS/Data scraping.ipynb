{
 "cells": [
  {
   "cell_type": "code",
   "execution_count": 1,
   "metadata": {},
   "outputs": [],
   "source": [
    "import re\n",
    "import requests\n",
    "\n",
    "import pandas as pd\n",
    "from bs4 import BeautifulSoup as bs\n",
    "from tqdm import tqdm_notebook"
   ]
  },
  {
   "cell_type": "markdown",
   "metadata": {},
   "source": [
    "# Parse Swadesh list index to get all pages"
   ]
  },
  {
   "cell_type": "code",
   "execution_count": 2,
   "metadata": {},
   "outputs": [],
   "source": [
    "res = requests.get(\"https://en.wiktionary.org/wiki/Category:Swadesh_lists_by_language\")\n",
    "soup = bs(res.text, \"html.parser\")\n",
    "swadesh_lists = []\n",
    "for link in soup.find_all(\"a\", href=True):\n",
    "    url = link[\"href\"]\n",
    "    if \"Appendix\" in url:\n",
    "        swadesh_lists.append('https://en.wiktionary.org' + url)"
   ]
  },
  {
   "cell_type": "code",
   "execution_count": 4,
   "metadata": {
    "scrolled": true
   },
   "outputs": [
    {
     "name": "stderr",
     "output_type": "stream",
     "text": [
      "/mnt/c/Users/Matthieu/marron/lib/python3.7/site-packages/ipykernel_launcher.py:3: TqdmDeprecationWarning: This function will be removed in tqdm==5.0.0\n",
      "Please use `tqdm.notebook.tqdm` instead of `tqdm.tqdm_notebook`\n",
      "  This is separate from the ipykernel package so we can avoid doing imports until\n"
     ]
    },
    {
     "data": {
      "application/vnd.jupyter.widget-view+json": {
       "model_id": "1a37f1be39364e018148e832e714f0ec",
       "version_major": 2,
       "version_minor": 0
      },
      "text/plain": [
       "  0%|          | 0/201 [00:00<?, ?it/s]"
      ]
     },
     "metadata": {},
     "output_type": "display_data"
    }
   ],
   "source": [
    "all_df = {}\n",
    "n = 0\n",
    "for url in tqdm_notebook(swadesh_lists):\n",
    "    if url != 'https://en.wiktionary.org/wiki/Appendix:Swadesh_lists' and url != 'https://en.wiktionary.org/wiki/Appendix:Glossary':\n",
    "        c\n",
    "        df = table[0]\n",
    "        df = df.dropna(how='all', axis=1)\n",
    "        all_df[swadesh_lists[n][40:]] = df\n",
    "    n += 1"
   ]
  },
  {
   "cell_type": "markdown",
   "metadata": {},
   "source": [
    "# Droping useless columns"
   ]
  },
  {
   "cell_type": "code",
   "execution_count": 22,
   "metadata": {},
   "outputs": [],
   "source": [
    "columns_to_drop = ['No.', 'Notes', 'no.', 'IPA', '№']\n",
    "for k in all_df.keys():\n",
    "    for ctd in columns_to_drop:\n",
    "        try:\n",
    "             all_df[k] = all_df[k].drop(columns=ctd)\n",
    "        except:\n",
    "            pass\n"
   ]
  },
  {
   "cell_type": "markdown",
   "metadata": {},
   "source": [
    "# Clean up"
   ]
  },
  {
   "cell_type": "code",
   "execution_count": 380,
   "metadata": {},
   "outputs": [],
   "source": [
    "raw = pd.read_excel('test.ods')"
   ]
  },
  {
   "cell_type": "markdown",
   "metadata": {},
   "source": [
    "## Utility fonctions"
   ]
  },
  {
   "cell_type": "code",
   "execution_count": 141,
   "metadata": {},
   "outputs": [],
   "source": [
    "def remove_inbetween_paranthesis(S):\n",
    "    return S.apply(lambda x: re.sub(\"[\\(\\[].*?[\\)\\]]\", \"\", x))"
   ]
  },
  {
   "cell_type": "code",
   "execution_count": 142,
   "metadata": {},
   "outputs": [],
   "source": [
    "def find_inside_par(s):\n",
    "    return re.findall(r'\\(.*?\\)', s) "
   ]
  },
  {
   "cell_type": "code",
   "execution_count": 143,
   "metadata": {},
   "outputs": [],
   "source": [
    "def sumstr(lstr):\n",
    "    outp = lstr[0].replace('(', '').replace(')', '')\n",
    "    for i in range(1, len(lstr)):\n",
    "        outp += ', ' + lstr[i].replace('(', '').replace(')', '')\n",
    "    return outp"
   ]
  },
  {
   "cell_type": "code",
   "execution_count": 190,
   "metadata": {},
   "outputs": [],
   "source": [
    "def remove_digits(s):\n",
    "    return ''.join([i for i in s if not i.isdigit()])"
   ]
  },
  {
   "cell_type": "code",
   "execution_count": 390,
   "metadata": {},
   "outputs": [],
   "source": [
    "raw[raw.columns[84]] = raw[raw.columns[84]].apply(find_inside_par).apply(sumstr)"
   ]
  },
  {
   "cell_type": "code",
   "execution_count": 391,
   "metadata": {},
   "outputs": [],
   "source": [
    "raw[raw.columns[85]] = raw[raw.columns[85]].apply(find_inside_par).apply(sumstr)"
   ]
  },
  {
   "cell_type": "code",
   "execution_count": 392,
   "metadata": {},
   "outputs": [],
   "source": [
    "raw[raw.columns[88]] = raw[raw.columns[88]].apply(lambda x: x.replace('*', ''))"
   ]
  },
  {
   "cell_type": "code",
   "execution_count": 393,
   "metadata": {},
   "outputs": [],
   "source": [
    "raw[raw.columns[90]] = raw[raw.columns[90]].apply(lambda x: x.replace('*', '').replace('(', '').replace(')', ''))"
   ]
  },
  {
   "cell_type": "code",
   "execution_count": 394,
   "metadata": {},
   "outputs": [],
   "source": [
    "raw[raw.columns[91]] = raw[raw.columns[91]].apply(lambda x: x.replace('*', ''))"
   ]
  },
  {
   "cell_type": "code",
   "execution_count": 398,
   "metadata": {},
   "outputs": [],
   "source": [
    "raw[raw.columns[94]] = remove_inbetween_paranthesis(raw[raw.columns[94]])"
   ]
  },
  {
   "cell_type": "code",
   "execution_count": 400,
   "metadata": {},
   "outputs": [],
   "source": [
    "raw[raw.columns[95]] = raw[raw.columns[95]].apply(find_inside_par).apply(sumstr)"
   ]
  },
  {
   "cell_type": "code",
   "execution_count": 403,
   "metadata": {},
   "outputs": [
    {
     "data": {
      "text/plain": [
       "19872"
      ]
     },
     "execution_count": 403,
     "metadata": {},
     "output_type": "execute_result"
    }
   ],
   "source": [
    "raw.size"
   ]
  },
  {
   "cell_type": "code",
   "execution_count": null,
   "metadata": {},
   "outputs": [],
   "source": []
  },
  {
   "cell_type": "code",
   "execution_count": null,
   "metadata": {},
   "outputs": [],
   "source": []
  },
  {
   "cell_type": "code",
   "execution_count": 404,
   "metadata": {},
   "outputs": [],
   "source": [
    "raw.dropna(axis=1).to_excel('test.ods', index=None)"
   ]
  },
  {
   "cell_type": "code",
   "execution_count": 200,
   "metadata": {
    "scrolled": true
   },
   "outputs": [
    {
     "data": {
      "text/plain": [
       "0          ngo\n",
       "1          nei\n",
       "2         keoi\n",
       "3      ngo dei\n",
       "4      nei dei\n",
       "        ...   \n",
       "202       tung\n",
       "203       tung\n",
       "204    jyu gwo\n",
       "205    jan wai\n",
       "206       meng\n",
       "Name: Jyutping transcription, Length: 207, dtype: object"
      ]
     },
     "execution_count": 200,
     "metadata": {},
     "output_type": "execute_result"
    }
   ],
   "source": [
    "raw[raw.columns[19]]"
   ]
  },
  {
   "cell_type": "code",
   "execution_count": 218,
   "metadata": {},
   "outputs": [
    {
     "data": {
      "text/html": [
       "<div>\n",
       "<style scoped>\n",
       "    .dataframe tbody tr th:only-of-type {\n",
       "        vertical-align: middle;\n",
       "    }\n",
       "\n",
       "    .dataframe tbody tr th {\n",
       "        vertical-align: top;\n",
       "    }\n",
       "\n",
       "    .dataframe thead th {\n",
       "        text-align: right;\n",
       "    }\n",
       "</style>\n",
       "<table border=\"1\" class=\"dataframe\">\n",
       "  <thead>\n",
       "    <tr style=\"text-align: right;\">\n",
       "      <th></th>\n",
       "      <th>English</th>\n",
       "      <th>Egyptianr(ꜣ) n(j) kmt</th>\n",
       "    </tr>\n",
       "  </thead>\n",
       "  <tbody>\n",
       "    <tr>\n",
       "      <th>0</th>\n",
       "      <td>I</td>\n",
       "      <td>jnk</td>\n",
       "    </tr>\n",
       "    <tr>\n",
       "      <th>1</th>\n",
       "      <td>you (singular)</td>\n",
       "      <td>Old Egyptian: ṯwt (m.), ṯmt (f.)Middle Egyptia...</td>\n",
       "    </tr>\n",
       "    <tr>\n",
       "      <th>2</th>\n",
       "      <td>he</td>\n",
       "      <td>Old Egyptian: swt (m.), stt (f.)Middle Egyptia...</td>\n",
       "    </tr>\n",
       "    <tr>\n",
       "      <th>3</th>\n",
       "      <td>we</td>\n",
       "      <td>jnn</td>\n",
       "    </tr>\n",
       "    <tr>\n",
       "      <th>4</th>\n",
       "      <td>you (plural)</td>\n",
       "      <td>Old and Middle Egyptian: ntṯnLate Egyptian: mnttn</td>\n",
       "    </tr>\n",
       "    <tr>\n",
       "      <th>...</th>\n",
       "      <td>...</td>\n",
       "      <td>...</td>\n",
       "    </tr>\n",
       "    <tr>\n",
       "      <th>202</th>\n",
       "      <td>with</td>\n",
       "      <td>ḥnꜥ, ḫrLate Egyptian: also jrm</td>\n",
       "    </tr>\n",
       "    <tr>\n",
       "      <th>203</th>\n",
       "      <td>and</td>\n",
       "      <td>—</td>\n",
       "    </tr>\n",
       "    <tr>\n",
       "      <th>204</th>\n",
       "      <td>if</td>\n",
       "      <td>jr</td>\n",
       "    </tr>\n",
       "    <tr>\n",
       "      <th>205</th>\n",
       "      <td>because</td>\n",
       "      <td>ḏr ntt, n ntt, ḥr ntt</td>\n",
       "    </tr>\n",
       "    <tr>\n",
       "      <th>206</th>\n",
       "      <td>name</td>\n",
       "      <td>rn</td>\n",
       "    </tr>\n",
       "  </tbody>\n",
       "</table>\n",
       "<p>207 rows × 2 columns</p>\n",
       "</div>"
      ],
      "text/plain": [
       "            English                              Egyptianr(ꜣ) n(j) kmt\n",
       "0                 I                                                jnk\n",
       "1    you (singular)  Old Egyptian: ṯwt (m.), ṯmt (f.)Middle Egyptia...\n",
       "2                he  Old Egyptian: swt (m.), stt (f.)Middle Egyptia...\n",
       "3                we                                                jnn\n",
       "4      you (plural)  Old and Middle Egyptian: ntṯnLate Egyptian: mnttn\n",
       "..              ...                                                ...\n",
       "202            with                     ḥnꜥ, ḫrLate Egyptian: also jrm\n",
       "203             and                                                  —\n",
       "204              if                                                 jr\n",
       "205         because                              ḏr ntt, n ntt, ḥr ntt\n",
       "206            name                                                 rn\n",
       "\n",
       "[207 rows x 2 columns]"
      ]
     },
     "execution_count": 218,
     "metadata": {},
     "output_type": "execute_result"
    }
   ],
   "source": [
    "all_df['Egyptian_Swadesh_list']"
   ]
  },
  {
   "cell_type": "code",
   "execution_count": 52,
   "metadata": {
    "scrolled": true
   },
   "outputs": [
    {
     "data": {
      "text/plain": [
       "array(['I (1sg)', 'you (2sg)', 'he, she, it (3sg)', 'we (1pl)',\n",
       "       'you (2pl)', 'they (3pl)', 'this', 'that', 'here', 'there', 'who',\n",
       "       'what', 'where', 'when', 'how', 'not', 'all', 'many', 'some',\n",
       "       'few', 'other', 'one', 'two', 'three', 'four', 'five', 'big',\n",
       "       'long', 'wide', 'thick', 'heavy', 'small', 'short', 'narrow',\n",
       "       'thin', 'woman', 'man (adult male)', 'man (human being)', 'child',\n",
       "       'wife', 'husband', 'mother', 'father', 'animal', 'fish', 'bird',\n",
       "       'dog', 'louse', 'snake', 'worm', 'tree', 'forest', 'stick',\n",
       "       'fruit', 'seed', 'leaf', 'root', 'bark (of a tree)', 'flower',\n",
       "       'grass', 'rope', 'skin', 'meat', 'blood', 'bone', 'fat (noun)',\n",
       "       'egg', 'horn', 'tail', 'feather', 'hair', 'head', 'ear', 'eye',\n",
       "       'nose', 'mouth', 'tooth', 'tongue (organ)', 'fingernail', 'foot',\n",
       "       'leg', 'knee', 'hand', 'wing', 'belly', 'guts', 'neck', 'back',\n",
       "       'breast', 'heart', 'liver', 'to drink', 'to eat', 'to bite',\n",
       "       'to suck', 'to spit', 'to vomit', 'to blow', 'to breathe',\n",
       "       'to laugh', 'to see', 'to hear', 'to know', 'to think', 'to smell',\n",
       "       'to fear', 'to sleep', 'to live', 'to die', 'to kill', 'to fight',\n",
       "       'to hunt', 'to hit', 'to cut', 'to split', 'to stab', 'to scratch',\n",
       "       'to dig', 'to swim', 'to fly', 'to walk', 'to come',\n",
       "       'to lie (as in a bed)', 'to sit', 'to stand',\n",
       "       'to turn (intransitive)', 'to fall', 'to give', 'to hold',\n",
       "       'to squeeze', 'to rub', 'to wash', 'to wipe', 'to pull', 'to push',\n",
       "       'to throw', 'to tie', 'to sew', 'to count', 'to say', 'to sing',\n",
       "       'to play', 'to float', 'to flow', 'to freeze', 'to swell', 'sun',\n",
       "       'moon', 'star', 'water', 'rain', 'river', 'lake', 'sea', 'salt',\n",
       "       'stone', 'sand', 'dust', 'earth', 'cloud', 'fog', 'sky', 'wind',\n",
       "       'snow', 'ice', 'smoke', 'fire', 'ash', 'to burn', 'road',\n",
       "       'mountain', 'red', 'green', 'yellow', 'white', 'black', 'night',\n",
       "       'day', 'year', 'warm', 'cold', 'full', 'new', 'old', 'good', 'bad',\n",
       "       'rotten', 'dirty', 'straight', 'round', 'sharp (as a knife)',\n",
       "       'dull (as a knife)', 'smooth', 'wet', 'dry', 'correct', 'near',\n",
       "       'far', 'right', 'left', 'at', 'in', 'with', 'and', 'if', 'because',\n",
       "       'name'], dtype=object)"
      ]
     },
     "metadata": {},
     "output_type": "display_data"
    }
   ],
   "source": [
    "display(raw['Index'].values)"
   ]
  },
  {
   "cell_type": "code",
   "execution_count": 38,
   "metadata": {},
   "outputs": [
    {
     "name": "stdout",
     "output_type": "stream",
     "text": [
      "'C:\\Users\\Matthieu\\Desktop\\LangMap\\Data\\swadesh\\Afrikaans_Swadesh_list.csv'\r\n",
      "'C:\\Users\\Matthieu\\Desktop\\LangMap\\Data\\swadesh\\Aikan%C3%A3_Swadesh_list.csv'\r\n",
      "'C:\\Users\\Matthieu\\Desktop\\LangMap\\Data\\swadesh\\Albanian_Swadesh_list.csv'\r\n",
      "'C:\\Users\\Matthieu\\Desktop\\LangMap\\Data\\swadesh\\Amharic_Swadesh_list.csv'\r\n",
      "'C:\\Users\\Matthieu\\Desktop\\LangMap\\Data\\swadesh\\Ancient_Greek_Swadesh_list.csv'\r\n",
      "'C:\\Users\\Matthieu\\Desktop\\LangMap\\Data\\swadesh\\Andoque_Swadesh_list.csv'\r\n",
      "'C:\\Users\\Matthieu\\Desktop\\LangMap\\Data\\swadesh\\Antillean_Creole_Swadesh_list.csv'\r\n",
      "'C:\\Users\\Matthieu\\Desktop\\LangMap\\Data\\swadesh\\Arabic_Swadesh_list.csv'\r\n",
      "'C:\\Users\\Matthieu\\Desktop\\LangMap\\Data\\swadesh\\Armenian_Swadesh_list.csv'\r\n",
      "'C:\\Users\\Matthieu\\Desktop\\LangMap\\Data\\swadesh\\Aromanian_Swadesh_list.csv'\r\n",
      "'C:\\Users\\Matthieu\\Desktop\\LangMap\\Data\\swadesh\\Arutani-Sape_Swadesh_lists.csv'\r\n",
      "'C:\\Users\\Matthieu\\Desktop\\LangMap\\Data\\swadesh\\Assamese_Swadesh_list.csv'\r\n",
      "'C:\\Users\\Matthieu\\Desktop\\LangMap\\Data\\swadesh\\Atakapa_Swadesh_list.csv'\r\n",
      "'C:\\Users\\Matthieu\\Desktop\\LangMap\\Data\\swadesh\\Avar_Swadesh_list.csv'\r\n",
      "'C:\\Users\\Matthieu\\Desktop\\LangMap\\Data\\swadesh\\Avestan_Swadesh_list.csv'\r\n",
      "'C:\\Users\\Matthieu\\Desktop\\LangMap\\Data\\swadesh\\Bangala_Swadesh_list.csv'\r\n",
      "'C:\\Users\\Matthieu\\Desktop\\LangMap\\Data\\swadesh\\Bashkir_Swadesh_list.csv'\r\n",
      "'C:\\Users\\Matthieu\\Desktop\\LangMap\\Data\\swadesh\\Basque_Swadesh_list.csv'\r\n",
      "'C:\\Users\\Matthieu\\Desktop\\LangMap\\Data\\swadesh\\Belarusian_Swadesh_list.csv'\r\n",
      "'C:\\Users\\Matthieu\\Desktop\\LangMap\\Data\\swadesh\\Bengali_Swadesh_list.csv'\r\n",
      "'C:\\Users\\Matthieu\\Desktop\\LangMap\\Data\\swadesh\\Bhojpuri_Swadesh_list.csv'\r\n",
      "'C:\\Users\\Matthieu\\Desktop\\LangMap\\Data\\swadesh\\Bhujel_Swadesh_list.csv'\r\n",
      "'C:\\Users\\Matthieu\\Desktop\\LangMap\\Data\\swadesh\\Bokm%C3%A5l_Swadesh_list.csv'\r\n",
      "'C:\\Users\\Matthieu\\Desktop\\LangMap\\Data\\swadesh\\Breton_Swadesh_list.csv'\r\n",
      "'C:\\Users\\Matthieu\\Desktop\\LangMap\\Data\\swadesh\\Buginese_Swadesh_list.csv'\r\n",
      "'C:\\Users\\Matthieu\\Desktop\\LangMap\\Data\\swadesh\\Bukitan_Swadesh_list.csv'\r\n",
      "'C:\\Users\\Matthieu\\Desktop\\LangMap\\Data\\swadesh\\Bulgarian_Swadesh_list.csv'\r\n",
      "'C:\\Users\\Matthieu\\Desktop\\LangMap\\Data\\swadesh\\Burmese_Swadesh_list.csv'\r\n",
      "'C:\\Users\\Matthieu\\Desktop\\LangMap\\Data\\swadesh\\Burushaski_Swadesh_list.csv'\r\n",
      "'C:\\Users\\Matthieu\\Desktop\\LangMap\\Data\\swadesh\\Cal%C3%B3_Swadesh_list.csv'\r\n",
      "'C:\\Users\\Matthieu\\Desktop\\LangMap\\Data\\swadesh\\Cantonese_Swadesh_list.csv'\r\n",
      "'C:\\Users\\Matthieu\\Desktop\\LangMap\\Data\\swadesh\\Cape_Verdean_Swadesh_list.csv'\r\n",
      "'C:\\Users\\Matthieu\\Desktop\\LangMap\\Data\\swadesh\\Catalan_Swadesh_list.csv'\r\n",
      "'C:\\Users\\Matthieu\\Desktop\\LangMap\\Data\\swadesh\\Cebuano_Swadesh_list.csv'\r\n",
      "'C:\\Users\\Matthieu\\Desktop\\LangMap\\Data\\swadesh\\Chechen_Swadesh_list.csv'\r\n",
      "'C:\\Users\\Matthieu\\Desktop\\LangMap\\Data\\swadesh\\Cornish_Swadesh_list.csv'\r\n",
      "'C:\\Users\\Matthieu\\Desktop\\LangMap\\Data\\swadesh\\Cypriot_Arabic_Swadesh_list.csv'\r\n",
      "'C:\\Users\\Matthieu\\Desktop\\LangMap\\Data\\swadesh\\Czech_Swadesh_list.csv'\r\n",
      "'C:\\Users\\Matthieu\\Desktop\\LangMap\\Data\\swadesh\\Dalmatian_Swadesh_list.csv'\r\n",
      "'C:\\Users\\Matthieu\\Desktop\\LangMap\\Data\\swadesh\\Danish_Swadesh_list.csv'\r\n",
      "'C:\\Users\\Matthieu\\Desktop\\LangMap\\Data\\swadesh\\Dhivehi_Swadesh_list.csv'\r\n",
      "'C:\\Users\\Matthieu\\Desktop\\LangMap\\Data\\swadesh\\Domari_Swadesh_list.csv'\r\n",
      "'C:\\Users\\Matthieu\\Desktop\\LangMap\\Data\\swadesh\\Dutch_Swadesh_list.csv'\r\n",
      "'C:\\Users\\Matthieu\\Desktop\\LangMap\\Data\\swadesh\\Egyptian_Arabic_Swadesh_list.csv'\r\n",
      "'C:\\Users\\Matthieu\\Desktop\\LangMap\\Data\\swadesh\\Egyptian_Swadesh_list.csv'\r\n",
      "'C:\\Users\\Matthieu\\Desktop\\LangMap\\Data\\swadesh\\Elamite_Swadesh_list.csv'\r\n",
      "'C:\\Users\\Matthieu\\Desktop\\LangMap\\Data\\swadesh\\English_Swadesh_list.csv'\r\n",
      "'C:\\Users\\Matthieu\\Desktop\\LangMap\\Data\\swadesh\\Esperanto_Swadesh_list.csv'\r\n",
      "'C:\\Users\\Matthieu\\Desktop\\LangMap\\Data\\swadesh\\Estonian_Swadesh_list.csv'\r\n",
      "'C:\\Users\\Matthieu\\Desktop\\LangMap\\Data\\swadesh\\Etruscan_Swadesh_list.csv'\r\n",
      "'C:\\Users\\Matthieu\\Desktop\\LangMap\\Data\\swadesh\\Faroese_Swadesh_list.csv'\r\n",
      "'C:\\Users\\Matthieu\\Desktop\\LangMap\\Data\\swadesh\\Fijian_Swadesh_list.csv'\r\n",
      "'C:\\Users\\Matthieu\\Desktop\\LangMap\\Data\\swadesh\\Fiji_Hindi_Swadesh_list.csv'\r\n",
      "'C:\\Users\\Matthieu\\Desktop\\LangMap\\Data\\swadesh\\Finnish_Swadesh_list.csv'\r\n",
      "'C:\\Users\\Matthieu\\Desktop\\LangMap\\Data\\swadesh\\Fongbe_Swadesh_list.csv'\r\n",
      "'C:\\Users\\Matthieu\\Desktop\\LangMap\\Data\\swadesh\\French_Swadesh_list.csv'\r\n",
      "'C:\\Users\\Matthieu\\Desktop\\LangMap\\Data\\swadesh\\Friulian_Swadesh_list.csv'\r\n",
      "'C:\\Users\\Matthieu\\Desktop\\LangMap\\Data\\swadesh\\Galician_Swadesh_list.csv'\r\n",
      "'C:\\Users\\Matthieu\\Desktop\\LangMap\\Data\\swadesh\\Gan_Swadesh_list.csv'\r\n",
      "'C:\\Users\\Matthieu\\Desktop\\LangMap\\Data\\swadesh\\Garhwali_Swadesh_list.csv'\r\n",
      "'C:\\Users\\Matthieu\\Desktop\\LangMap\\Data\\swadesh\\Garo_Swadesh_list.csv'\r\n",
      "'C:\\Users\\Matthieu\\Desktop\\LangMap\\Data\\swadesh\\Gelao_Swadesh_lists.csv'\r\n",
      "'C:\\Users\\Matthieu\\Desktop\\LangMap\\Data\\swadesh\\Georgian_Swadesh_list.csv'\r\n",
      "'C:\\Users\\Matthieu\\Desktop\\LangMap\\Data\\swadesh\\German_Swadesh_list.csv'\r\n",
      "'C:\\Users\\Matthieu\\Desktop\\LangMap\\Data\\swadesh\\Gothic_Swadesh_list.csv'\r\n",
      "'C:\\Users\\Matthieu\\Desktop\\LangMap\\Data\\swadesh\\Greek_Swadesh_list.csv'\r\n",
      "'C:\\Users\\Matthieu\\Desktop\\LangMap\\Data\\swadesh\\Guinea-Bissau_Swadesh_list.csv'\r\n",
      "'C:\\Users\\Matthieu\\Desktop\\LangMap\\Data\\swadesh\\Gujarati_Swadesh_list.csv'\r\n",
      "'C:\\Users\\Matthieu\\Desktop\\LangMap\\Data\\swadesh\\Haida_Swadesh_list.csv'\r\n",
      "'C:\\Users\\Matthieu\\Desktop\\LangMap\\Data\\swadesh\\Haitian_Creole_Swadesh_list.csv'\r\n",
      "'C:\\Users\\Matthieu\\Desktop\\LangMap\\Data\\swadesh\\Hausa_Swadesh_list.csv'\r\n",
      "'C:\\Users\\Matthieu\\Desktop\\LangMap\\Data\\swadesh\\Hawaiian_Swadesh_list.csv'\r\n",
      "'C:\\Users\\Matthieu\\Desktop\\LangMap\\Data\\swadesh\\Hindi_Swadesh_list.csv'\r\n",
      "'C:\\Users\\Matthieu\\Desktop\\LangMap\\Data\\swadesh\\Hittite_Swadesh_list.csv'\r\n",
      "'C:\\Users\\Matthieu\\Desktop\\LangMap\\Data\\swadesh\\Hungarian_Swadesh_list.csv'\r\n",
      "'C:\\Users\\Matthieu\\Desktop\\LangMap\\Data\\swadesh\\Hunsrik_Swadesh_list.csv'\r\n",
      "'C:\\Users\\Matthieu\\Desktop\\LangMap\\Data\\swadesh\\Hurrian_Swadesh_list.csv'\r\n",
      "'C:\\Users\\Matthieu\\Desktop\\LangMap\\Data\\swadesh\\Icelandic_Swadesh_list.csv'\r\n",
      "'C:\\Users\\Matthieu\\Desktop\\LangMap\\Data\\swadesh\\Ido_Swadesh_list.csv'\r\n",
      "'C:\\Users\\Matthieu\\Desktop\\LangMap\\Data\\swadesh\\Ilocano_Swadesh_list.csv'\r\n",
      "'C:\\Users\\Matthieu\\Desktop\\LangMap\\Data\\swadesh\\Indonesian_Swadesh_list.csv'\r\n",
      "'C:\\Users\\Matthieu\\Desktop\\LangMap\\Data\\swadesh\\Indus_Kohistani_Swadesh_list.csv'\r\n",
      "'C:\\Users\\Matthieu\\Desktop\\LangMap\\Data\\swadesh\\Interlingua_Swadesh_list.csv'\r\n",
      "'C:\\Users\\Matthieu\\Desktop\\LangMap\\Data\\swadesh\\Interlingue_Swadesh_list.csv'\r\n",
      "'C:\\Users\\Matthieu\\Desktop\\LangMap\\Data\\swadesh\\Irish_Swadesh_list.csv'\r\n",
      "'C:\\Users\\Matthieu\\Desktop\\LangMap\\Data\\swadesh\\Istro-Romanian_Swadesh_list.csv'\r\n",
      "'C:\\Users\\Matthieu\\Desktop\\LangMap\\Data\\swadesh\\Italian_Swadesh_list.csv'\r\n",
      "'C:\\Users\\Matthieu\\Desktop\\LangMap\\Data\\swadesh\\Japanese_Swadesh_list.csv'\r\n",
      "'C:\\Users\\Matthieu\\Desktop\\LangMap\\Data\\swadesh\\Japanese_Swadesh_list_(extended).csv'\r\n",
      "'C:\\Users\\Matthieu\\Desktop\\LangMap\\Data\\swadesh\\Jarai_Swadesh_list.csv'\r\n",
      "'C:\\Users\\Matthieu\\Desktop\\LangMap\\Data\\swadesh\\Javanese_Swadesh_list.csv'\r\n",
      "'C:\\Users\\Matthieu\\Desktop\\LangMap\\Data\\swadesh\\Jeju_Swadesh_list.csv'\r\n",
      "'C:\\Users\\Matthieu\\Desktop\\LangMap\\Data\\swadesh\\Jizhao_Swadesh_list.csv'\r\n",
      "'C:\\Users\\Matthieu\\Desktop\\LangMap\\Data\\swadesh\\Juba_Arabic_Swadesh_list.csv'\r\n",
      "'C:\\Users\\Matthieu\\Desktop\\LangMap\\Data\\swadesh\\Kalasha_Swadesh_list.csv'\r\n",
      "'C:\\Users\\Matthieu\\Desktop\\LangMap\\Data\\swadesh\\Kannada_Swadesh_list.csv'\r\n",
      "'C:\\Users\\Matthieu\\Desktop\\LangMap\\Data\\swadesh\\Kano%C3%A9_Swadesh_list.csv'\r\n",
      "'C:\\Users\\Matthieu\\Desktop\\LangMap\\Data\\swadesh\\Kashmiri_Swadesh_list.csv'\r\n",
      "'C:\\Users\\Matthieu\\Desktop\\LangMap\\Data\\swadesh\\Kashubian_Swadesh_list.csv'\r\n",
      "'C:\\Users\\Matthieu\\Desktop\\LangMap\\Data\\swadesh\\Khmer_Swadesh_list.csv'\r\n",
      "'C:\\Users\\Matthieu\\Desktop\\LangMap\\Data\\swadesh\\Khoekhoe_Swadesh_list.csv'\r\n",
      "'C:\\Users\\Matthieu\\Desktop\\LangMap\\Data\\swadesh\\Kholosi_Swadesh_list.csv'\r\n",
      "'C:\\Users\\Matthieu\\Desktop\\LangMap\\Data\\swadesh\\Khowar_Swadesh_list.csv'\r\n",
      "'C:\\Users\\Matthieu\\Desktop\\LangMap\\Data\\swadesh\\Klingon_Swadesh_list.csv'\r\n",
      "'C:\\Users\\Matthieu\\Desktop\\LangMap\\Data\\swadesh\\Konkani_Swadesh_list.csv'\r\n",
      "'C:\\Users\\Matthieu\\Desktop\\LangMap\\Data\\swadesh\\Korean_Swadesh_list.csv'\r\n",
      "'C:\\Users\\Matthieu\\Desktop\\LangMap\\Data\\swadesh\\Kumzari_Swadesh_list.csv'\r\n",
      "'C:\\Users\\Matthieu\\Desktop\\LangMap\\Data\\swadesh\\Kwaza_Swadesh_list.csv'\r\n",
      "'C:\\Users\\Matthieu\\Desktop\\LangMap\\Data\\swadesh\\Laal_Swadesh_list.csv'\r\n",
      "'C:\\Users\\Matthieu\\Desktop\\LangMap\\Data\\swadesh\\Lari_Swadesh_list.csv'\r\n",
      "'C:\\Users\\Matthieu\\Desktop\\LangMap\\Data\\swadesh\\Latgalian_Swadesh_list.csv'\r\n",
      "'C:\\Users\\Matthieu\\Desktop\\LangMap\\Data\\swadesh\\Latin_Swadesh_list.csv'\r\n",
      "'C:\\Users\\Matthieu\\Desktop\\LangMap\\Data\\swadesh\\Latvian_Swadesh_list.csv'\r\n",
      "'C:\\Users\\Matthieu\\Desktop\\LangMap\\Data\\swadesh\\Limburgish_Swadesh_list.csv'\r\n",
      "'C:\\Users\\Matthieu\\Desktop\\LangMap\\Data\\swadesh\\Limilngan_word_list.csv'\r\n",
      "'C:\\Users\\Matthieu\\Desktop\\LangMap\\Data\\swadesh\\Lingala_Swadesh_list.csv'\r\n",
      "'C:\\Users\\Matthieu\\Desktop\\LangMap\\Data\\swadesh\\Lingua_Franca_Nova_Swadesh_list.csv'\r\n",
      "'C:\\Users\\Matthieu\\Desktop\\LangMap\\Data\\swadesh\\Lingwa_de_Planeta_Swadesh_list.csv'\r\n",
      "'C:\\Users\\Matthieu\\Desktop\\LangMap\\Data\\swadesh\\Lithuanian_Swadesh_list.csv'\r\n",
      "'C:\\Users\\Matthieu\\Desktop\\LangMap\\Data\\swadesh\\Lojban_Swadesh_list.csv'\r\n",
      "'C:\\Users\\Matthieu\\Desktop\\LangMap\\Data\\swadesh\\Lombard_Swadesh_list.csv'\r\n",
      "'C:\\Users\\Matthieu\\Desktop\\LangMap\\Data\\swadesh\\Lower_Sorbian_Swadesh_list.csv'\r\n",
      "'C:\\Users\\Matthieu\\Desktop\\LangMap\\Data\\swadesh\\Low_Saxon_Swadesh_list.csv'\r\n",
      "'C:\\Users\\Matthieu\\Desktop\\LangMap\\Data\\swadesh\\Luwati_Swadesh_list.csv'\r\n",
      "'C:\\Users\\Matthieu\\Desktop\\LangMap\\Data\\swadesh\\Luwian_Swadesh_list.csv'\r\n",
      "'C:\\Users\\Matthieu\\Desktop\\LangMap\\Data\\swadesh\\Macedonian_Swadesh_list.csv'\r\n",
      "'C:\\Users\\Matthieu\\Desktop\\LangMap\\Data\\swadesh\\Maharastri_Prakrit_Swadesh_list.csv'\r\n",
      "'C:\\Users\\Matthieu\\Desktop\\LangMap\\Data\\swadesh\\Makasar_Swadesh_list.csv'\r\n",
      "'C:\\Users\\Matthieu\\Desktop\\LangMap\\Data\\swadesh\\Malagasy_Swadesh_list.csv'\r\n",
      "'C:\\Users\\Matthieu\\Desktop\\LangMap\\Data\\swadesh\\Malay_Swadesh_list.csv'\r\n",
      "'C:\\Users\\Matthieu\\Desktop\\LangMap\\Data\\swadesh\\Maltese_Swadesh_list.csv'\r\n",
      "'C:\\Users\\Matthieu\\Desktop\\LangMap\\Data\\swadesh\\Mandarin_Swadesh_list.csv'\r\n",
      "'C:\\Users\\Matthieu\\Desktop\\LangMap\\Data\\swadesh\\Manx_Swadesh_list.csv'\r\n",
      "'C:\\Users\\Matthieu\\Desktop\\LangMap\\Data\\swadesh\\Marathi_Swadesh_list.csv'\r\n",
      "'C:\\Users\\Matthieu\\Desktop\\LangMap\\Data\\swadesh\\Mauritian_Creole_Swadesh_list.csv'\r\n",
      "'C:\\Users\\Matthieu\\Desktop\\LangMap\\Data\\swadesh\\Megleno-Romanian_Swadesh_list.csv'\r\n",
      "'C:\\Users\\Matthieu\\Desktop\\LangMap\\Data\\swadesh\\Mewati_Swadesh_list.csv'\r\n",
      "'C:\\Users\\Matthieu\\Desktop\\LangMap\\Data\\swadesh\\Middle_English_Swadesh_list.csv'\r\n",
      "'C:\\Users\\Matthieu\\Desktop\\LangMap\\Data\\swadesh\\Middle_French_Swadesh_list.csv'\r\n",
      "'C:\\Users\\Matthieu\\Desktop\\LangMap\\Data\\swadesh\\Middle_Korean_Swadesh_list.csv'\r\n",
      "'C:\\Users\\Matthieu\\Desktop\\LangMap\\Data\\swadesh\\Min_Dong_Swadesh_list.csv'\r\n",
      "'C:\\Users\\Matthieu\\Desktop\\LangMap\\Data\\swadesh\\Min_Nan_Swadesh_list.csv'\r\n",
      "'C:\\Users\\Matthieu\\Desktop\\LangMap\\Data\\swadesh\\Modern_Hebrew_Swadesh_list.csv'\r\n",
      "'C:\\Users\\Matthieu\\Desktop\\LangMap\\Data\\swadesh\\Mongolian_Swadesh_list.csv'\r\n",
      "'C:\\Users\\Matthieu\\Desktop\\LangMap\\Data\\swadesh\\Moroccan_Arabic_Swadesh_list.csv'\r\n",
      "'C:\\Users\\Matthieu\\Desktop\\LangMap\\Data\\swadesh\\Mycenaean_Greek_Swadesh_list.csv'\r\n",
      "'C:\\Users\\Matthieu\\Desktop\\LangMap\\Data\\swadesh\\Nandi_Swadesh_list.csv'\r\n",
      "'C:\\Users\\Matthieu\\Desktop\\LangMap\\Data\\swadesh\\Naro_Swadesh_list.csv'\r\n",
      "'C:\\Users\\Matthieu\\Desktop\\LangMap\\Data\\swadesh\\Natchez_Swadesh_list.csv'\r\n",
      "'C:\\Users\\Matthieu\\Desktop\\LangMap\\Data\\swadesh\\Neapolitan_Swadesh_list.csv'\r\n",
      "'C:\\Users\\Matthieu\\Desktop\\LangMap\\Data\\swadesh\\Neo_Swadesh_list.csv'\r\n",
      "'C:\\Users\\Matthieu\\Desktop\\LangMap\\Data\\swadesh\\Nepali_Swadesh_list.csv'\r\n",
      "'C:\\Users\\Matthieu\\Desktop\\LangMap\\Data\\swadesh\\Newar_Swadesh_list.csv'\r\n",
      "'C:\\Users\\Matthieu\\Desktop\\LangMap\\Data\\swadesh\\Northern_Kurdish_Swadesh_list.csv'\r\n",
      "'C:\\Users\\Matthieu\\Desktop\\LangMap\\Data\\swadesh\\Novial_Swadesh_list.csv'\r\n",
      "'C:\\Users\\Matthieu\\Desktop\\LangMap\\Data\\swadesh\\Nynorsk_Swadesh_list.csv'\r\n",
      "'C:\\Users\\Matthieu\\Desktop\\LangMap\\Data\\swadesh\\Ojibwe_Swadesh_list.csv'\r\n",
      "'C:\\Users\\Matthieu\\Desktop\\LangMap\\Data\\swadesh\\Okinawan_Swadesh_list.csv'\r\n",
      "'C:\\Users\\Matthieu\\Desktop\\LangMap\\Data\\swadesh\\Old_Chinese_Swadesh_list.csv'\r\n",
      "'C:\\Users\\Matthieu\\Desktop\\LangMap\\Data\\swadesh\\Old_Church_Slavonic_Swadesh_list.csv'\r\n",
      "'C:\\Users\\Matthieu\\Desktop\\LangMap\\Data\\swadesh\\Old_English_Swadesh_list.csv'\r\n",
      "'C:\\Users\\Matthieu\\Desktop\\LangMap\\Data\\swadesh\\Old_French_Swadesh_list.csv'\r\n",
      "'C:\\Users\\Matthieu\\Desktop\\LangMap\\Data\\swadesh\\Old_High_German_Swadesh_list.csv'\r\n",
      "'C:\\Users\\Matthieu\\Desktop\\LangMap\\Data\\swadesh\\Old_Irish_Swadesh_list.csv'\r\n",
      "'C:\\Users\\Matthieu\\Desktop\\LangMap\\Data\\swadesh\\Old_Marathi_Swadesh_list.csv'\r\n",
      "'C:\\Users\\Matthieu\\Desktop\\LangMap\\Data\\swadesh\\Old_Norse_Swadesh_list.csv'\r\n",
      "'C:\\Users\\Matthieu\\Desktop\\LangMap\\Data\\swadesh\\Old_Persian_Swadesh_list.csv'\r\n",
      "'C:\\Users\\Matthieu\\Desktop\\LangMap\\Data\\swadesh\\Old_Portuguese_Swadesh_list.csv'\r\n",
      "'C:\\Users\\Matthieu\\Desktop\\LangMap\\Data\\swadesh\\Old_Prussian_Swadesh_list.csv'\r\n",
      "'C:\\Users\\Matthieu\\Desktop\\LangMap\\Data\\swadesh\\Oriya_Swadesh_list.csv'\r\n",
      "'C:\\Users\\Matthieu\\Desktop\\LangMap\\Data\\swadesh\\Ossetian_Swadesh_list.csv'\r\n",
      "'C:\\Users\\Matthieu\\Desktop\\LangMap\\Data\\swadesh\\Pali_Swadesh_list.csv'\r\n",
      "'C:\\Users\\Matthieu\\Desktop\\LangMap\\Data\\swadesh\\Palya_Bareli_Swadesh_list.csv'\r\n",
      "'C:\\Users\\Matthieu\\Desktop\\LangMap\\Data\\swadesh\\Pangwali_Swadesh_list.csv'\r\n",
      "'C:\\Users\\Matthieu\\Desktop\\LangMap\\Data\\swadesh\\Papiamento_Swadesh_list.csv'\r\n",
      "'C:\\Users\\Matthieu\\Desktop\\LangMap\\Data\\swadesh\\Paraguayan_Guaran%C3%AD_Swadesh_list.csv'\r\n",
      "'C:\\Users\\Matthieu\\Desktop\\LangMap\\Data\\swadesh\\Persian_Swadesh_list.csv'\r\n",
      "'C:\\Users\\Matthieu\\Desktop\\LangMap\\Data\\swadesh\\Phalura_Swadesh_list.csv'\r\n",
      "'C:\\Users\\Matthieu\\Desktop\\LangMap\\Data\\swadesh\\Polish_Swadesh_list.csv'\r\n",
      "'C:\\Users\\Matthieu\\Desktop\\LangMap\\Data\\swadesh\\Portuguese_Swadesh_list.csv'\r\n",
      "'C:\\Users\\Matthieu\\Desktop\\LangMap\\Data\\swadesh\\Proto-Austronesian_Swadesh_list.csv'\r\n",
      "'C:\\Users\\Matthieu\\Desktop\\LangMap\\Data\\swadesh\\Proto-Balto-Slavic_Swadesh_list.csv'\r\n",
      "'C:\\Users\\Matthieu\\Desktop\\LangMap\\Data\\swadesh\\Proto-Bantu_Swadesh_list.csv'\r\n",
      "'C:\\Users\\Matthieu\\Desktop\\LangMap\\Data\\swadesh\\Proto-Basque_Swadesh_list.csv'\r\n",
      "'C:\\Users\\Matthieu\\Desktop\\LangMap\\Data\\swadesh\\Proto-Brythonic_Swadesh_list.csv'\r\n",
      "'C:\\Users\\Matthieu\\Desktop\\LangMap\\Data\\swadesh\\Proto-Celtic_Swadesh_list.csv'\r\n",
      "'C:\\Users\\Matthieu\\Desktop\\LangMap\\Data\\swadesh\\Proto-Germanic_Swadesh_list.csv'\r\n",
      "'C:\\Users\\Matthieu\\Desktop\\LangMap\\Data\\swadesh\\Proto-Hellenic_Swadesh_list.csv'\r\n",
      "'C:\\Users\\Matthieu\\Desktop\\LangMap\\Data\\swadesh\\Proto-Indo-European_Swadesh_list.csv'\r\n",
      "'C:\\Users\\Matthieu\\Desktop\\LangMap\\Data\\swadesh\\Proto-Indo-Iranian_Swadesh_list.csv'\r\n",
      "'C:\\Users\\Matthieu\\Desktop\\LangMap\\Data\\swadesh\\Proto-Italic_Swadesh_list.csv'\r\n",
      "'C:\\Users\\Matthieu\\Desktop\\LangMap\\Data\\swadesh\\Proto-Mayan_Swadesh_list.csv'\r\n",
      "'C:\\Users\\Matthieu\\Desktop\\LangMap\\Data\\swadesh\\Proto-Slavic_Swadesh_list.csv'\r\n",
      "'C:\\Users\\Matthieu\\Desktop\\LangMap\\Data\\swadesh\\Proto-Totozoquean_Swadesh_list.csv'\r\n",
      "'C:\\Users\\Matthieu\\Desktop\\LangMap\\Data\\swadesh\\Punjabi_Swadesh_list.csv'\r\n",
      "'C:\\Users\\Matthieu\\Desktop\\LangMap\\Data\\swadesh\\Purepecha_Swadesh_list.csv'\r\n",
      "'C:\\Users\\Matthieu\\Desktop\\LangMap\\Data\\swadesh\\Quechuan_Swadesh_list.csv'\r\n",
      "'C:\\Users\\Matthieu\\Desktop\\LangMap\\Data\\swadesh\\Romanian_Swadesh_list.csv'\r\n",
      "'C:\\Users\\Matthieu\\Desktop\\LangMap\\Data\\swadesh\\Romani_Swadesh_list.csv'\r\n",
      "'Data scraping.ipynb'\r\n",
      " Projet1stDraft.ipynb\r\n"
     ]
    }
   ],
   "source": [
    "!ls"
   ]
  },
  {
   "cell_type": "code",
   "execution_count": 6,
   "metadata": {
    "scrolled": true
   },
   "outputs": [],
   "source": [
    "for k in all_df.keys():\n",
    "    flag = 0\n",
    "    for c in all_df[k].columns:\n",
    "        if 'English' in c:\n",
    "            flag = 1\n",
    "        elif 'gloss' in c:\n",
    "            flag = 1\n",
    "    if flag == 1:\n",
    "        break\n",
    "    else:\n",
    "        new_header = all_df[k].iloc[0]\n",
    "        all_df[k] = all_df[k][1:] \n",
    "        all_df[k].columns = new_header"
   ]
  },
  {
   "cell_type": "code",
   "execution_count": 133,
   "metadata": {},
   "outputs": [
    {
     "ename": "TypeError",
     "evalue": "argument of type 'int' is not iterable",
     "output_type": "error",
     "traceback": [
      "\u001b[1;31m---------------------------------------------------------------------------\u001b[0m",
      "\u001b[1;31mTypeError\u001b[0m                                 Traceback (most recent call last)",
      "\u001b[1;32m<ipython-input-133-0934cbd61f85>\u001b[0m in \u001b[0;36m<module>\u001b[1;34m\u001b[0m\n\u001b[0;32m      1\u001b[0m \u001b[0mflag\u001b[0m \u001b[1;33m=\u001b[0m \u001b[1;36m0\u001b[0m\u001b[1;33m\u001b[0m\u001b[1;33m\u001b[0m\u001b[0m\n\u001b[0;32m      2\u001b[0m \u001b[1;32mfor\u001b[0m \u001b[0mc\u001b[0m \u001b[1;32min\u001b[0m \u001b[0mall_df\u001b[0m\u001b[1;33m[\u001b[0m\u001b[1;34m'Burmese_Swadesh_list'\u001b[0m\u001b[1;33m]\u001b[0m\u001b[1;33m.\u001b[0m\u001b[0mcolumns\u001b[0m\u001b[1;33m:\u001b[0m\u001b[1;33m\u001b[0m\u001b[1;33m\u001b[0m\u001b[0m\n\u001b[1;32m----> 3\u001b[1;33m     \u001b[1;32mif\u001b[0m \u001b[1;34m'English'\u001b[0m \u001b[1;32min\u001b[0m \u001b[0mc\u001b[0m\u001b[1;33m:\u001b[0m\u001b[1;33m\u001b[0m\u001b[1;33m\u001b[0m\u001b[0m\n\u001b[0m\u001b[0;32m      4\u001b[0m         \u001b[0mflag\u001b[0m \u001b[1;33m=\u001b[0m \u001b[1;36m1\u001b[0m\u001b[1;33m\u001b[0m\u001b[1;33m\u001b[0m\u001b[0m\n\u001b[0;32m      5\u001b[0m     \u001b[1;32melif\u001b[0m \u001b[1;34m'gloss'\u001b[0m \u001b[1;32min\u001b[0m \u001b[0mc\u001b[0m\u001b[1;33m:\u001b[0m\u001b[1;33m\u001b[0m\u001b[1;33m\u001b[0m\u001b[0m\n",
      "\u001b[1;31mTypeError\u001b[0m: argument of type 'int' is not iterable"
     ]
    }
   ],
   "source": [
    "flag = 0\n",
    "for c in all_df['Burmese_Swadesh_list'].columns:\n",
    "    if 'English' in c:\n",
    "        flag = 1\n",
    "    elif 'gloss' in c:\n",
    "        flag = 1"
   ]
  },
  {
   "cell_type": "code",
   "execution_count": null,
   "metadata": {},
   "outputs": [],
   "source": []
  }
 ],
 "metadata": {
  "kernelspec": {
   "display_name": "Python 3",
   "language": "python",
   "name": "python3"
  },
  "language_info": {
   "codemirror_mode": {
    "name": "ipython",
    "version": 3
   },
   "file_extension": ".py",
   "mimetype": "text/x-python",
   "name": "python",
   "nbconvert_exporter": "python",
   "pygments_lexer": "ipython3",
   "version": "3.7.3"
  },
  "toc": {
   "base_numbering": 1,
   "nav_menu": {},
   "number_sections": true,
   "sideBar": true,
   "skip_h1_title": false,
   "title_cell": "Table of Contents",
   "title_sidebar": "Contents",
   "toc_cell": false,
   "toc_position": {},
   "toc_section_display": true,
   "toc_window_display": false
  }
 },
 "nbformat": 4,
 "nbformat_minor": 2
}
