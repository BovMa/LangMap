{
 "cells": [
  {
   "cell_type": "code",
   "execution_count": 120,
   "metadata": {},
   "outputs": [
    {
     "name": "stdout",
     "output_type": "stream",
     "text": [
      "Once deleted, variables cannot be recovered. Proceed (y/[n])? y\n"
     ]
    }
   ],
   "source": [
    "%reset"
   ]
  },
  {
   "cell_type": "code",
   "execution_count": 121,
   "metadata": {},
   "outputs": [],
   "source": [
    "import requests\n",
    "\n",
    "from bs4 import BeautifulSoup as bs\n",
    "import pandas as pd\n",
    "from tqdm import tqdm_notebook"
   ]
  },
  {
   "cell_type": "code",
   "execution_count": 122,
   "metadata": {},
   "outputs": [],
   "source": [
    "res = requests.get(\"https://en.wiktionary.org/wiki/Category:Swadesh_lists_by_language\")\n",
    "soup = bs(res.text, \"html.parser\")\n",
    "swadesh_lists = []\n",
    "for link in soup.find_all(\"a\", href=True):\n",
    "    url = link[\"href\"]\n",
    "    if \"Appendix\" in url:\n",
    "        swadesh_lists.append('https://en.wiktionary.org' + url)"
   ]
  },
  {
   "cell_type": "code",
   "execution_count": 123,
   "metadata": {
    "scrolled": true
   },
   "outputs": [
    {
     "data": {
      "application/vnd.jupyter.widget-view+json": {
       "model_id": "4a5cd9d8e5bc43e0ba1819f6f8f06b3c",
       "version_major": 2,
       "version_minor": 0
      },
      "text/plain": [
       "HBox(children=(IntProgress(value=0, max=201), HTML(value='')))"
      ]
     },
     "metadata": {},
     "output_type": "display_data"
    }
   ],
   "source": [
    "all_df = {}\n",
    "n = 0\n",
    "for url in tqdm_notebook(swadesh_lists):\n",
    "    if url != 'https://en.wiktionary.org/wiki/Appendix:Swadesh_lists' and url != 'https://en.wiktionary.org/wiki/Appendix:Glossary':\n",
    "        table = pd.read_html(url)\n",
    "        df = table[0]\n",
    "        df = df.dropna(how='all', axis=1)\n",
    "        all_df[swadesh_lists[n][40:]] = df\n",
    "    n += 1"
   ]
  },
  {
   "cell_type": "code",
   "execution_count": 134,
   "metadata": {},
   "outputs": [],
   "source": [
    "columns_to_drop = ['No.', 'Notes', 'no.', 'IPA']\n",
    "for k in all_df.keys():\n",
    "    for ctd in columns_to_drop:\n",
    "        try:\n",
    "             all_df[k] = all_df[k].drop(columns=ctd)\n",
    "        except:\n",
    "            pass\n"
   ]
  },
  {
   "cell_type": "code",
   "execution_count": 129,
   "metadata": {
    "scrolled": true
   },
   "outputs": [],
   "source": [
    "for k in all_df.keys():\n",
    "    flag = 0\n",
    "    for c in all_df[k].columns:\n",
    "        if 'English' in c:\n",
    "            flag = 1\n",
    "        elif 'gloss' in c:\n",
    "            flag = 1\n",
    "    if flag == 1:\n",
    "        break\n",
    "    else:\n",
    "        new_header = all_df[k].iloc[0]\n",
    "        all_df[k] = all_df[k][1:] \n",
    "        all_df[k].columns = new_header"
   ]
  },
  {
   "cell_type": "code",
   "execution_count": 130,
   "metadata": {
    "scrolled": true
   },
   "outputs": [
    {
     "name": "stdout",
     "output_type": "stream",
     "text": [
      "Burmese_Swadesh_list\n",
      "Burushaski_Swadesh_list\n",
      "Georgian_Swadesh_list\n",
      "Interlingue_Swadesh_list\n",
      "Irish_Swadesh_list\n",
      "Japanese_Swadesh_list\n",
      "Japanese_Swadesh_list_(extended)\n",
      "Khmer_Swadesh_list\n",
      "Korean_Swadesh_list\n",
      "Latgalian_Swadesh_list\n",
      "Lingwa_de_Planeta_Swadesh_list\n",
      "Mandarin_Swadesh_list\n",
      "Min_Nan_Swadesh_list\n",
      "Ojibwe_Swadesh_list\n",
      "Old_High_German_Swadesh_list\n",
      "Old_Irish_Swadesh_list\n",
      "Old_Prussian_Swadesh_list\n",
      "Proto-Bantu_Swadesh_list\n",
      "Proto-Basque_Swadesh_list\n",
      "Proto-Brythonic_Swadesh_list\n",
      "Proto-Celtic_Swadesh_list\n",
      "Proto-Mayan_Swadesh_list\n",
      "Proto-Totozoquean_Swadesh_list\n",
      "Purepecha_Swadesh_list\n",
      "Samogitian_Swadesh_list\n"
     ]
    }
   ],
   "source": [
    "for k in all_df.keys():\n",
    "    if ('English' not in all_df[k].columns) and ('English gloss' not in all_df[k].columns) and ('gloss' not in all_df[k].columns) and ('English (gloss)' ) :\n",
    "        print(k)"
   ]
  },
  {
   "cell_type": "code",
   "execution_count": 133,
   "metadata": {},
   "outputs": [
    {
     "ename": "TypeError",
     "evalue": "argument of type 'int' is not iterable",
     "output_type": "error",
     "traceback": [
      "\u001b[1;31m---------------------------------------------------------------------------\u001b[0m",
      "\u001b[1;31mTypeError\u001b[0m                                 Traceback (most recent call last)",
      "\u001b[1;32m<ipython-input-133-0934cbd61f85>\u001b[0m in \u001b[0;36m<module>\u001b[1;34m\u001b[0m\n\u001b[0;32m      1\u001b[0m \u001b[0mflag\u001b[0m \u001b[1;33m=\u001b[0m \u001b[1;36m0\u001b[0m\u001b[1;33m\u001b[0m\u001b[1;33m\u001b[0m\u001b[0m\n\u001b[0;32m      2\u001b[0m \u001b[1;32mfor\u001b[0m \u001b[0mc\u001b[0m \u001b[1;32min\u001b[0m \u001b[0mall_df\u001b[0m\u001b[1;33m[\u001b[0m\u001b[1;34m'Burmese_Swadesh_list'\u001b[0m\u001b[1;33m]\u001b[0m\u001b[1;33m.\u001b[0m\u001b[0mcolumns\u001b[0m\u001b[1;33m:\u001b[0m\u001b[1;33m\u001b[0m\u001b[1;33m\u001b[0m\u001b[0m\n\u001b[1;32m----> 3\u001b[1;33m     \u001b[1;32mif\u001b[0m \u001b[1;34m'English'\u001b[0m \u001b[1;32min\u001b[0m \u001b[0mc\u001b[0m\u001b[1;33m:\u001b[0m\u001b[1;33m\u001b[0m\u001b[1;33m\u001b[0m\u001b[0m\n\u001b[0m\u001b[0;32m      4\u001b[0m         \u001b[0mflag\u001b[0m \u001b[1;33m=\u001b[0m \u001b[1;36m1\u001b[0m\u001b[1;33m\u001b[0m\u001b[1;33m\u001b[0m\u001b[0m\n\u001b[0;32m      5\u001b[0m     \u001b[1;32melif\u001b[0m \u001b[1;34m'gloss'\u001b[0m \u001b[1;32min\u001b[0m \u001b[0mc\u001b[0m\u001b[1;33m:\u001b[0m\u001b[1;33m\u001b[0m\u001b[1;33m\u001b[0m\u001b[0m\n",
      "\u001b[1;31mTypeError\u001b[0m: argument of type 'int' is not iterable"
     ]
    }
   ],
   "source": [
    "flag = 0\n",
    "for c in all_df['Burmese_Swadesh_list'].columns:\n",
    "    if 'English' in c:\n",
    "        flag = 1\n",
    "    elif 'gloss' in c:\n",
    "        flag = 1"
   ]
  },
  {
   "cell_type": "code",
   "execution_count": null,
   "metadata": {},
   "outputs": [],
   "source": []
  }
 ],
 "metadata": {
  "kernelspec": {
   "display_name": "Python 3",
   "language": "python",
   "name": "python3"
  },
  "language_info": {
   "codemirror_mode": {
    "name": "ipython",
    "version": 3
   },
   "file_extension": ".py",
   "mimetype": "text/x-python",
   "name": "python",
   "nbconvert_exporter": "python",
   "pygments_lexer": "ipython3",
   "version": "3.6.8"
  }
 },
 "nbformat": 4,
 "nbformat_minor": 2
}
